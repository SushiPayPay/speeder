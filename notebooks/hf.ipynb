{
 "cells": [
  {
   "cell_type": "code",
   "execution_count": null,
   "metadata": {},
   "outputs": [],
   "source": [
    "from torch.utils.data import Dataset\n",
    "from datasets import load_dataset\n",
    "\n",
    "import hydra\n",
    "from omegaconf import OmegaConf\n",
    "\n",
    "import os\n",
    "from time import time\n",
    "from dotenv import load_dotenv\n",
    "\n",
    "from PIL import Image\n",
    "import numpy as np\n",
    "\n",
    "import ray\n",
    "from ray.experimental.tqdm_ray import tqdm\n",
    "from torch.utils.data import Dataset\n",
    "\n",
    "from speeder.utils import *"
   ]
  },
  {
   "cell_type": "code",
   "execution_count": null,
   "metadata": {},
   "outputs": [],
   "source": [
    "output_dir = '/data/clean_test/tiny-imagenet-raw'\n",
    "ds = load_dataset('zh-plus/tiny-imagenet', cache_dir=output_dir)"
   ]
  },
  {
   "cell_type": "code",
   "execution_count": null,
   "metadata": {},
   "outputs": [],
   "source": [
    "print(len(ds['train'].info.features['label'].names))"
   ]
  },
  {
   "cell_type": "code",
   "execution_count": null,
   "metadata": {},
   "outputs": [],
   "source": [
    "print(len(ds['valid'].info.features['label'].names))"
   ]
  },
  {
   "cell_type": "code",
   "execution_count": null,
   "metadata": {},
   "outputs": [],
   "source": [
    "class TorchDataset(Dataset):\n",
    "    def __init__(self, ds):\n",
    "        self.ds = ds\n",
    "\n",
    "    def __getitem__(self, i):\n",
    "        x = self.ds[int(i)]\n",
    "        return x['image'].convert('RGB'), int(x['label'])\n",
    "\n",
    "    def __len__(self):\n",
    "        return len(self.ds)"
   ]
  },
  {
   "cell_type": "code",
   "execution_count": null,
   "metadata": {},
   "outputs": [],
   "source": [
    "ds_train = TorchDataset(ds['train'])\n",
    "ds_test = TorchDataset(ds['valid'])"
   ]
  }
 ],
 "metadata": {
  "kernelspec": {
   "display_name": "speeder",
   "language": "python",
   "name": "python3"
  },
  "language_info": {
   "codemirror_mode": {
    "name": "ipython",
    "version": 3
   },
   "file_extension": ".py",
   "mimetype": "text/x-python",
   "name": "python",
   "nbconvert_exporter": "python",
   "pygments_lexer": "ipython3",
   "version": "3.9.19"
  }
 },
 "nbformat": 4,
 "nbformat_minor": 2
}
